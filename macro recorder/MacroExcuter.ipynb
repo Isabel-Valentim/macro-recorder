{
 "cells": [
  {
   "cell_type": "code",
   "execution_count": 1,
   "metadata": {},
   "outputs": [],
   "source": [
    "import os"
   ]
  },
  {
   "cell_type": "code",
   "execution_count": 2,
   "metadata": {},
   "outputs": [
    {
     "name": "stdout",
     "output_type": "stream",
     "text": [
      "Arquivos rotacionados com sucesso!\n"
     ]
    }
   ],
   "source": [
    "def rotate_files(file_prefix, file_extension, max_versions=5):\n",
    "    for i in range(max_versions, 0, -1):\n",
    "        old_file = f\"{file_prefix}_{i}{file_extension}\"\n",
    "        new_file = f\"{file_prefix}_{i+1}{file_extension}\"\n",
    "        if os.path.exists(old_file):\n",
    "            if i == max_versions:\n",
    "                os.remove(old_file)  # Remove the oldest file if it exceeds max_versions\n",
    "            else:\n",
    "                os.rename(old_file, new_file)  # Rename older files to increment their version number\n",
    "\n",
    "    base_file = f\"{file_prefix}{file_extension}\"\n",
    "    if os.path.exists(base_file):\n",
    "        os.rename(base_file, f\"{file_prefix}_1{file_extension}\")\n",
    "\n",
    "# Defina os prefixos e extensões dos arquivos\n",
    "mouse_file_prefix = 'mouse_events'\n",
    "keyboard_file_prefix = 'keyboard_events'\n",
    "file_extension = '.txt'\n",
    "\n",
    "# Rotacionar os arquivos\n",
    "rotate_files(mouse_file_prefix, file_extension)\n",
    "rotate_files(keyboard_file_prefix, file_extension)\n",
    "\n",
    "print(\"Arquivos rotacionados com sucesso!\")"
   ]
  }
 ],
 "metadata": {
  "kernelspec": {
   "display_name": "Python 3",
   "language": "python",
   "name": "python3"
  },
  "language_info": {
   "codemirror_mode": {
    "name": "ipython",
    "version": 3
   },
   "file_extension": ".py",
   "mimetype": "text/x-python",
   "name": "python",
   "nbconvert_exporter": "python",
   "pygments_lexer": "ipython3",
   "version": "3.12.2"
  }
 },
 "nbformat": 4,
 "nbformat_minor": 2
}
