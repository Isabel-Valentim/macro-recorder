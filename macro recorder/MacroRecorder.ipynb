{
 "cells": [
  {
   "cell_type": "markdown",
   "metadata": {},
   "source": [
    "### Configurações"
   ]
  },
  {
   "cell_type": "code",
   "execution_count": 10,
   "metadata": {},
   "outputs": [],
   "source": [
    "#!pip install pynput"
   ]
  },
  {
   "cell_type": "code",
   "execution_count": 11,
   "metadata": {},
   "outputs": [],
   "source": [
    "from pynput import mouse, keyboard"
   ]
  },
  {
   "cell_type": "code",
   "execution_count": 12,
   "metadata": {},
   "outputs": [],
   "source": [
    "mouse_events = []\n",
    "keyboard_events = []\n",
    "stop_listening = False"
   ]
  },
  {
   "cell_type": "code",
   "execution_count": 13,
   "metadata": {},
   "outputs": [],
   "source": [
    "def on_move(x, y):\n",
    "    mouse_events.append(('move', x, y))\n",
    "\n",
    "def on_click(x, y, button, pressed):\n",
    "    mouse_events.append(('click', x, y, button, pressed))\n",
    "\n",
    "def on_scroll(x, y, dx, dy):\n",
    "    mouse_events.append(('scroll', x, y, dx, dy))\n",
    "\n",
    "# Funções de callback para eventos do teclado\n",
    "def on_press(key):\n",
    "    global stop_listening\n",
    "    try:\n",
    "        keyboard_events.append(('press', key.char))\n",
    "    except AttributeError:\n",
    "        keyboard_events.append(('press', key.name))\n",
    "    \n",
    "    # Verificar se a tecla 'Esc' foi pressionada para parar os ouvintes\n",
    "    if key == keyboard.Key.esc:\n",
    "        stop_listening = True\n",
    "        return False\n",
    "\n",
    "def on_release(key):\n",
    "    try:\n",
    "        keyboard_events.append(('release', key.char))\n",
    "    except AttributeError:\n",
    "        keyboard_events.append(('release', key.name))"
   ]
  },
  {
   "cell_type": "code",
   "execution_count": 14,
   "metadata": {},
   "outputs": [],
   "source": [
    "mouse_listener = mouse.Listener(on_move=on_move, on_click=on_click, on_scroll=on_scroll)\n",
    "keyboard_listener = keyboard.Listener(on_press=on_press, on_release=on_release)"
   ]
  },
  {
   "cell_type": "code",
   "execution_count": 15,
   "metadata": {},
   "outputs": [],
   "source": [
    "# Iniciando os ouvintes\n",
    "mouse_listener.start()\n",
    "keyboard_listener.start()"
   ]
  },
  {
   "cell_type": "markdown",
   "metadata": {},
   "source": [
    "### LOOP PARA EXECUTAR O PROGRAMA\n",
    "#### PARA SAIR APERTAR TECLA ESC"
   ]
  },
  {
   "cell_type": "code",
   "execution_count": 16,
   "metadata": {},
   "outputs": [
    {
     "name": "stdout",
     "output_type": "stream",
     "text": [
      "Eventos gravados em mouse_events.txt e keyboard_events.txt\n"
     ]
    }
   ],
   "source": [
    "while not stop_listening:\n",
    "    pass\n",
    "\n",
    "# Parando os ouvintes quando o script é interrompido\n",
    "mouse_listener.stop()\n",
    "keyboard_listener.stop()\n",
    "\n",
    "# Salvando eventos em um arquivo\n",
    "with open('mouse_events.txt', 'w') as mouse_file:\n",
    "    for event in mouse_events:\n",
    "        mouse_file.write(f\"{event}\\n\")\n",
    "\n",
    "with open('keyboard_events.txt', 'w') as keyboard_file:\n",
    "    for event in keyboard_events:\n",
    "        keyboard_file.write(f\"{event}\\n\")\n",
    "\n",
    "print(\"Eventos gravados em mouse_events.txt e keyboard_events.txt\")"
   ]
  }
 ],
 "metadata": {
  "kernelspec": {
   "display_name": "Python 3",
   "language": "python",
   "name": "python3"
  },
  "language_info": {
   "codemirror_mode": {
    "name": "ipython",
    "version": 3
   },
   "file_extension": ".py",
   "mimetype": "text/x-python",
   "name": "python",
   "nbconvert_exporter": "python",
   "pygments_lexer": "ipython3",
   "version": "3.12.2"
  }
 },
 "nbformat": 4,
 "nbformat_minor": 2
}
